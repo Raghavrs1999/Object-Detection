{
 "cells": [
  {
   "cell_type": "markdown",
   "id": "3f34dd35",
   "metadata": {},
   "source": [
    "Download IP Webcam from playstore for mobile streaming"
   ]
  },
  {
   "cell_type": "code",
   "execution_count": 1,
   "id": "536d991f",
   "metadata": {},
   "outputs": [
    {
     "name": "stdout",
     "output_type": "stream",
     "text": [
      "If you are not having the ip address, you can type: 0 \n",
      "Enter the ip address of the phone: 0\n"
     ]
    }
   ],
   "source": [
    "import cv2\n",
    "\n",
    "\n",
    "# Opencv DNN\n",
    "net = cv2.dnn.readNet(\"yolov4-tiny.weights\", \"yolov4-tiny.cfg\")\n",
    "model = cv2.dnn_DetectionModel(net)\n",
    "model.setInputParams(size=(320, 320), scale=1/255)\n",
    "\n",
    "# Load class lists\n",
    "classes = []\n",
    "with open(\"coco.names\", \"r\") as file_object:\n",
    "    for class_name in file_object.readlines():\n",
    "        class_name = class_name.strip()\n",
    "        classes.append(class_name)\n",
    "\n",
    "\n",
    "# Initialize camera\n",
    "print(\"If you are not having the ip address, you can type: 0 \")\n",
    "ip = input(\"Enter the ip address of the phone: \")\n",
    "\n",
    "if ip == \"0\":\n",
    "    cap = cv2.VideoCapture(0)\n",
    "else:\n",
    "    cap = cv2.VideoCapture(\"{}\".format(ip))\n",
    "    cap.set(cv2.CAP_PROP_FRAME_WIDTH, 720)\n",
    "    cap.set(cv2.CAP_PROP_FRAME_HEIGHT, 720)\n",
    "\n",
    "\n",
    "while True:\n",
    "    # Get frames\n",
    "    ret, frame = cap.read()\n",
    "    \n",
    "    frame = cv2.resize(frame, (864, 704))\n",
    "    #print(frame.shape)\n",
    "    \n",
    "    # Object Detection\n",
    "    (class_ids, scores, bboxes) = model.detect(frame, confThreshold=0.1, nmsThreshold=.2)\n",
    "    for class_id, score, bbox in zip(class_ids, scores, bboxes):\n",
    "        (x, y, w, h) = bbox\n",
    "        class_name = classes[class_id]\n",
    "\n",
    "        cv2.putText(frame, class_name, (x, y - 10), cv2.FONT_HERSHEY_PLAIN, 3, (50,200,25), 2)\n",
    "        cv2.rectangle(frame, (x, y), (x + w, y + h), (50,200,25), 3)\n",
    "\n",
    "    cv2.imshow(\"Frame\", frame)\n",
    "    \n",
    "    key = cv2.waitKey(1) & 0xff\n",
    "    if key == ord(\"q\") or key == 27:\n",
    "        break\n",
    "cap.release()\n",
    "cv2.destroyAllWindows()\n"
   ]
  },
  {
   "cell_type": "markdown",
   "id": "80f8e757",
   "metadata": {},
   "source": [
    "http://192.168.29.170:8080/video"
   ]
  },
  {
   "cell_type": "markdown",
   "id": "40100f6e",
   "metadata": {},
   "source": [
    "# YOLOv5 "
   ]
  },
  {
   "cell_type": "code",
   "execution_count": 1,
   "id": "e2ab2c3d",
   "metadata": {},
   "outputs": [
    {
     "name": "stderr",
     "output_type": "stream",
     "text": [
      "Using cache found in C:\\Users\\DELL/.cache\\torch\\hub\\ultralytics_yolov5_master\n",
      "YOLOv5  2023-3-31 Python-3.8.10 torch-2.0.0+cpu CPU\n",
      "\n",
      "Downloading https://github.com/ultralytics/yolov5/releases/download/v7.0/yolov5s.pt to yolov5s.pt...\n",
      "100%|█████████████████████████████████████████████████████████████████████████████| 14.1M/14.1M [00:04<00:00, 3.53MB/s]\n",
      "\n",
      "Fusing layers... \n",
      "YOLOv5s summary: 213 layers, 7225885 parameters, 0 gradients\n",
      "Adding AutoShape... \n"
     ]
    },
    {
     "name": "stdout",
     "output_type": "stream",
     "text": [
      "If you don't have the IP address, enter: 0\n",
      "Enter the IP address of the phone: 0\n"
     ]
    }
   ],
   "source": [
    "import cv2\n",
    "import numpy as np\n",
    "import torch\n",
    "\n",
    "# Load model\n",
    "model = torch.hub.load('ultralytics/yolov5', 'yolov5s', pretrained=True)\n",
    "\n",
    "# Load class names\n",
    "with open('E:/YOLOv5s files/coco.yaml', 'r', encoding='utf8') as f:\n",
    "    classes = [line.strip() for line in f.readlines()][1:]\n",
    "\n",
    "# Initialize camera\n",
    "print(\"If you don't have the IP address, enter: 0\")\n",
    "ip_address = input(\"Enter the IP address of the phone: \")\n",
    "if ip_address == '0':\n",
    "    cap = cv2.VideoCapture(0)\n",
    "else:\n",
    "    cap = cv2.VideoCapture('http://' + ip_address + ':8080/video')\n",
    "\n",
    "# Loop through frames\n",
    "while True:\n",
    "    # Read frame from camera\n",
    "    ret, frame = cap.read()\n",
    "    if not ret:\n",
    "        break\n",
    "\n",
    "    # Object detection\n",
    "    results = model(frame)\n",
    "\n",
    "    # Loop through detected objects\n",
    "    for result in results.xyxy[0]:\n",
    "        class_id = int(result[5])\n",
    "        class_name = classes[class_id]\n",
    "        confidence = float(result[4])\n",
    "\n",
    "        # Draw bounding box around object\n",
    "        x1, y1, x2, y2 = [int(i) for i in result[:4]]\n",
    "        cv2.rectangle(frame, (x1, y1), (x2, y2), (125, 150, 175), 2)\n",
    "\n",
    "        # Add label to bounding box\n",
    "        label = f\"{class_name} {confidence:.2f}\"\n",
    "        cv2.putText(frame, label, (x1, y1 - 10), cv2.FONT_HERSHEY_PLAIN, 2, (125, 150, 175), 4)\n",
    "\n",
    "    # Show frame\n",
    "    cv2.imshow('frame', frame)\n",
    "\n",
    "    # Exit on 'q' key\n",
    "    key  = cv2.waitKey(1)\n",
    "    if key == ord('q') or key == 27:\n",
    "        break\n",
    "\n",
    "# Clean up\n",
    "cap.release()\n",
    "cv2.destroyAllWindows()\n"
   ]
  },
  {
   "cell_type": "code",
   "execution_count": null,
   "id": "81452c48",
   "metadata": {},
   "outputs": [],
   "source": []
  }
 ],
 "metadata": {
  "kernelspec": {
   "display_name": "Python 3 (ipykernel)",
   "language": "python",
   "name": "python3"
  },
  "language_info": {
   "codemirror_mode": {
    "name": "ipython",
    "version": 3
   },
   "file_extension": ".py",
   "mimetype": "text/x-python",
   "name": "python",
   "nbconvert_exporter": "python",
   "pygments_lexer": "ipython3",
   "version": "3.8.10"
  },
  "varInspector": {
   "cols": {
    "lenName": 16,
    "lenType": 16,
    "lenVar": 40
   },
   "kernels_config": {
    "python": {
     "delete_cmd_postfix": "",
     "delete_cmd_prefix": "del ",
     "library": "var_list.py",
     "varRefreshCmd": "print(var_dic_list())"
    },
    "r": {
     "delete_cmd_postfix": ") ",
     "delete_cmd_prefix": "rm(",
     "library": "var_list.r",
     "varRefreshCmd": "cat(var_dic_list()) "
    }
   },
   "types_to_exclude": [
    "module",
    "function",
    "builtin_function_or_method",
    "instance",
    "_Feature"
   ],
   "window_display": false
  }
 },
 "nbformat": 4,
 "nbformat_minor": 5
}
